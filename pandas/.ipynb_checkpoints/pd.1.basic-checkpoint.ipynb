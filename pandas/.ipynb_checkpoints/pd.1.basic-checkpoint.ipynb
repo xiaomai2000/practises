{
 "cells": [
  {
   "cell_type": "code",
   "execution_count": 1,
   "id": "52b0a780",
   "metadata": {},
   "outputs": [],
   "source": [
    "import pandas as pd"
   ]
  },
  {
   "cell_type": "code",
   "execution_count": 3,
   "id": "53bc8021",
   "metadata": {},
   "outputs": [],
   "source": [
    "s = pd.Series([1,2,5,6])"
   ]
  },
  {
   "cell_type": "code",
   "execution_count": 4,
   "id": "3f0b37a2",
   "metadata": {},
   "outputs": [
    {
     "data": {
      "text/plain": [
       "0    1\n",
       "1    2\n",
       "2    5\n",
       "3    6\n",
       "dtype: int64"
      ]
     },
     "execution_count": 4,
     "metadata": {},
     "output_type": "execute_result"
    }
   ],
   "source": [
    "s"
   ]
  },
  {
   "cell_type": "code",
   "execution_count": 5,
   "id": "abd7e37f",
   "metadata": {},
   "outputs": [
    {
     "data": {
      "text/plain": [
       "0    2\n",
       "1    3\n",
       "2    6\n",
       "3    7\n",
       "dtype: int64"
      ]
     },
     "execution_count": 5,
     "metadata": {},
     "output_type": "execute_result"
    }
   ],
   "source": [
    "s + 1"
   ]
  },
  {
   "cell_type": "code",
   "execution_count": 8,
   "id": "a74a9b2f",
   "metadata": {},
   "outputs": [],
   "source": [
    "s2 = pd.Series( [1,2,6,8], index=['a', 'b', 'cc', 'kk'])"
   ]
  },
  {
   "cell_type": "code",
   "execution_count": 9,
   "id": "0533f914",
   "metadata": {},
   "outputs": [
    {
     "data": {
      "text/plain": [
       "a     1\n",
       "b     2\n",
       "cc    6\n",
       "kk    8\n",
       "dtype: int64"
      ]
     },
     "execution_count": 9,
     "metadata": {},
     "output_type": "execute_result"
    }
   ],
   "source": [
    "s2"
   ]
  },
  {
   "cell_type": "code",
   "execution_count": 11,
   "id": "3166ea3b",
   "metadata": {},
   "outputs": [
    {
     "data": {
      "text/plain": [
       "Index(['a', 'b', 'cc', 'kk'], dtype='object')"
      ]
     },
     "execution_count": 11,
     "metadata": {},
     "output_type": "execute_result"
    }
   ],
   "source": [
    "s2.index"
   ]
  },
  {
   "cell_type": "code",
   "execution_count": 15,
   "id": "7797eba9",
   "metadata": {},
   "outputs": [
    {
     "data": {
      "text/plain": [
       "1"
      ]
     },
     "execution_count": 15,
     "metadata": {},
     "output_type": "execute_result"
    }
   ],
   "source": [
    "s2['a']"
   ]
  },
  {
   "cell_type": "code",
   "execution_count": 17,
   "id": "0b9d930e",
   "metadata": {},
   "outputs": [
    {
     "data": {
      "text/plain": [
       "a     1\n",
       "kk    8\n",
       "dtype: int64"
      ]
     },
     "execution_count": 17,
     "metadata": {},
     "output_type": "execute_result"
    }
   ],
   "source": [
    "s2 [ ['a','kk'] ]  # use [] for mutiple indexes"
   ]
  },
  {
   "cell_type": "code",
   "execution_count": 18,
   "id": "d5eb6723",
   "metadata": {},
   "outputs": [],
   "source": [
    "##"
   ]
  },
  {
   "cell_type": "code",
   "execution_count": 19,
   "id": "1b68cba7",
   "metadata": {},
   "outputs": [],
   "source": [
    "d = {\n",
    "    'Lilili':'Handsome boy',\n",
    "    'Lulu':  'Graceful'\n",
    "}"
   ]
  },
  {
   "cell_type": "code",
   "execution_count": 20,
   "id": "32650d31",
   "metadata": {},
   "outputs": [
    {
     "data": {
      "text/plain": [
       "{'Lilili': 'Handsome boy', 'Lulu': 'Graceful'}"
      ]
     },
     "execution_count": 20,
     "metadata": {},
     "output_type": "execute_result"
    }
   ],
   "source": [
    "d"
   ]
  },
  {
   "cell_type": "code",
   "execution_count": 21,
   "id": "d54278ee",
   "metadata": {},
   "outputs": [],
   "source": [
    "s3 = pd.Series(d)"
   ]
  },
  {
   "cell_type": "code",
   "execution_count": 23,
   "id": "916d0ee9",
   "metadata": {},
   "outputs": [
    {
     "data": {
      "text/plain": [
       "Lilili    Handsome boy\n",
       "Lulu          Graceful\n",
       "dtype: object"
      ]
     },
     "execution_count": 23,
     "metadata": {},
     "output_type": "execute_result"
    }
   ],
   "source": [
    "s3    # you can see that the index of Series is just the key of the dictionary"
   ]
  },
  {
   "cell_type": "code",
   "execution_count": 24,
   "id": "acad16f3",
   "metadata": {},
   "outputs": [],
   "source": [
    "##"
   ]
  },
  {
   "cell_type": "code",
   "execution_count": 27,
   "id": "eaa8b613",
   "metadata": {},
   "outputs": [],
   "source": [
    "s4 = pd.Series(d, index = ['Lilili', 'Lulu', 'Haha2'])"
   ]
  },
  {
   "cell_type": "code",
   "execution_count": 28,
   "id": "48f045b0",
   "metadata": {},
   "outputs": [
    {
     "data": {
      "text/plain": [
       "Lilili    Handsome boy\n",
       "Lulu          Graceful\n",
       "Haha2              NaN\n",
       "dtype: object"
      ]
     },
     "execution_count": 28,
     "metadata": {},
     "output_type": "execute_result"
    }
   ],
   "source": [
    "s4   # which means, if the index not found, will assign ‘NaA' automatically"
   ]
  },
  {
   "cell_type": "code",
   "execution_count": null,
   "id": "499542ee",
   "metadata": {},
   "outputs": [],
   "source": []
  }
 ],
 "metadata": {
  "kernelspec": {
   "display_name": "Python 3 (ipykernel)",
   "language": "python",
   "name": "python3"
  },
  "language_info": {
   "codemirror_mode": {
    "name": "ipython",
    "version": 3
   },
   "file_extension": ".py",
   "mimetype": "text/x-python",
   "name": "python",
   "nbconvert_exporter": "python",
   "pygments_lexer": "ipython3",
   "version": "3.9.7"
  }
 },
 "nbformat": 4,
 "nbformat_minor": 5
}
