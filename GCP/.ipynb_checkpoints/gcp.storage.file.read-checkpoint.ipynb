{
 "cells": [
  {
   "cell_type": "code",
   "execution_count": null,
   "id": "85069fe7",
   "metadata": {},
   "outputs": [],
   "source": [
    "# Access Google Storage file"
   ]
  },
  {
   "cell_type": "code",
   "execution_count": null,
   "id": "8f24d059",
   "metadata": {},
   "outputs": [],
   "source": [
    "from google.cloud import storage\n",
    "import os"
   ]
  },
  {
   "cell_type": "code",
   "execution_count": null,
   "id": "916e2b6b",
   "metadata": {},
   "outputs": [],
   "source": [
    "GOOGLE_CLOUD_PROJECT=\"tutorialprj01\"\n",
    "GOOGLE_APPLICATION_CREDENTIALS=\"./key.python-sp-storage-todel2.json\"\n",
    "os.environ['GOOGLE_CLOUD_PROJECT']=GOOGLE_CLOUD_PROJECT\n",
    "os.environ['GOOGLE_APPLICATION_CREDENTIALS']=GOOGLE_APPLICATION_CREDENTIALS\n",
    "os.environ['http_proxy']=\"http://localhost:10809\""
   ]
  },
  {
   "cell_type": "code",
   "execution_count": null,
   "id": "4be66b51",
   "metadata": {},
   "outputs": [],
   "source": [
    "bucket_name = 'a-todel-storage-0521'\n",
    "source_blob_name = '/a-test-folder/yob2014.txt'\n",
    "destination_file_name = './downloaded.yob2014.txt'"
   ]
  },
  {
   "cell_type": "code",
   "execution_count": null,
   "id": "01a2e921",
   "metadata": {},
   "outputs": [],
   "source": [
    "def download_blob(bucket_name, source_blob_name, destination_file_name):\n",
    "    \"\"\"Downloads a blob from the bucket.\"\"\"\n",
    "    # The ID of your GCS bucket\n",
    "    # bucket_name = \"your-bucket-name\"\n",
    "\n",
    "    # The ID of your GCS object\n",
    "    # source_blob_name = \"storage-object-name\"\n",
    "\n",
    "    # The path to which the file should be downloaded\n",
    "    # destination_file_name = \"local/path/to/file\"\n",
    "\n",
    "    storage_client = storage.Client()\n",
    "\n",
    "    bucket = storage_client.bucket(bucket_name)    \n",
    "\n",
    "    # Construct a client side representation of a blob.\n",
    "    # Note `Bucket.blob` differs from `Bucket.get_blob` as it doesn't retrieve\n",
    "    # any content from Google Cloud Storage. As we don't need additional data,\n",
    "    # using `Bucket.blob` is preferred here.\n",
    "    blob = bucket.blob(source_blob_name)\n",
    "    #blob.download_to_filename(destination_file_name)\n",
    "    blob.download_as_string()\n",
    "\n",
    "    print(\n",
    "        \"Downloaded storage object {} from bucket {} to local file {}.\".format(\n",
    "            source_blob_name, bucket_name, destination_file_name\n",
    "        )\n",
    "    )\n"
   ]
  },
  {
   "cell_type": "code",
   "execution_count": null,
   "id": "d104fb41",
   "metadata": {},
   "outputs": [],
   "source": [
    "download_blob(bucket_name,source_blob_name,destination_file_name)"
   ]
  },
  {
   "cell_type": "code",
   "execution_count": null,
   "id": "56089d06",
   "metadata": {},
   "outputs": [],
   "source": []
  }
 ],
 "metadata": {
  "kernelspec": {
   "display_name": "Python gcp_ocr",
   "language": "python",
   "name": "gcp_ocr"
  },
  "language_info": {
   "codemirror_mode": {
    "name": "ipython",
    "version": 3
   },
   "file_extension": ".py",
   "mimetype": "text/x-python",
   "name": "python",
   "nbconvert_exporter": "python",
   "pygments_lexer": "ipython3",
   "version": "3.9.12"
  }
 },
 "nbformat": 4,
 "nbformat_minor": 5
}
