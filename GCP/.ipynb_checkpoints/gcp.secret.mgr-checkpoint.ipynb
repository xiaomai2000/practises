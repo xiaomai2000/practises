{
 "cells": [
  {
   "cell_type": "code",
   "execution_count": 1,
   "id": "532f59e1",
   "metadata": {},
   "outputs": [],
   "source": [
    "#Access Google secret manager"
   ]
  },
  {
   "cell_type": "code",
   "execution_count": 31,
   "id": "7f0cc5d6",
   "metadata": {},
   "outputs": [],
   "source": [
    "from google.cloud import secretmanager\n",
    "import os"
   ]
  },
  {
   "cell_type": "code",
   "execution_count": 32,
   "id": "ab2c137d",
   "metadata": {},
   "outputs": [],
   "source": [
    "project_id = 'tutorialprj01'\n",
    "secret_id  = 'my-secret2'\n",
    "GOOGLE_APPLICATION_CREDENTIALS=\"./key.secret.mgr.json\""
   ]
  },
  {
   "cell_type": "code",
   "execution_count": 33,
   "id": "94fba248",
   "metadata": {},
   "outputs": [],
   "source": [
    "os.environ['GOOGLE_CLOUD_PROJECT']=project_id\n",
    "os.environ['GOOGLE_APPLICATION_CREDENTIALS']=GOOGLE_APPLICATION_CREDENTIALS\n",
    "os.environ['http_proxy']=\"http://localhost:10809\""
   ]
  },
  {
   "cell_type": "code",
   "execution_count": 34,
   "id": "40e750f6",
   "metadata": {},
   "outputs": [],
   "source": [
    "# Create secret manager client"
   ]
  },
  {
   "cell_type": "code",
   "execution_count": 35,
   "id": "8fc12299",
   "metadata": {},
   "outputs": [],
   "source": [
    "client = secretmanager.SecretManagerServiceClient()"
   ]
  },
  {
   "cell_type": "code",
   "execution_count": 36,
   "id": "653f2e13",
   "metadata": {},
   "outputs": [],
   "source": [
    "#Build the paretn name from the project"
   ]
  },
  {
   "cell_type": "code",
   "execution_count": 37,
   "id": "b5e3042b",
   "metadata": {},
   "outputs": [],
   "source": [
    "parent = f'projects/{project_id}'\n"
   ]
  },
  {
   "cell_type": "code",
   "execution_count": 39,
   "id": "306d6f5a",
   "metadata": {},
   "outputs": [],
   "source": [
    "#secret = client.create_secret(\n",
    "#    request={\n",
    "#        \"parent\": parent,\n",
    "#        \"secret_id\": secret_id,\n",
    "#        \"secret\": {\"replication\": {\"automatic\":{}}},\n",
    "#    }\n",
    "#)"
   ]
  },
  {
   "cell_type": "code",
   "execution_count": 40,
   "id": "f54a158a",
   "metadata": {},
   "outputs": [],
   "source": [
    "#access secret version"
   ]
  },
  {
   "cell_type": "code",
   "execution_count": 44,
   "id": "9e862175",
   "metadata": {},
   "outputs": [],
   "source": [
    "secret_id = \"my-secret\"\n",
    "name = f\"projects/{project_id}/secrets/{secret_id}/versions/latest\""
   ]
  },
  {
   "cell_type": "code",
   "execution_count": 45,
   "id": "558807fd",
   "metadata": {},
   "outputs": [],
   "source": [
    "# Access the secret version.\n",
    "response = client.access_secret_version(request={\"name\": name})"
   ]
  },
  {
   "cell_type": "code",
   "execution_count": 46,
   "id": "c5541188",
   "metadata": {},
   "outputs": [
    {
     "name": "stdout",
     "output_type": "stream",
     "text": [
      "name: \"projects/94920510836/secrets/my-secret/versions/1\"\n",
      "payload {\n",
      "  data: \"my-super-secret-data\"\n",
      "  data_crc32c: 3102513255\n",
      "}\n",
      "\n"
     ]
    }
   ],
   "source": [
    "print(response)"
   ]
  },
  {
   "cell_type": "code",
   "execution_count": null,
   "id": "e7f18f36",
   "metadata": {},
   "outputs": [],
   "source": []
  }
 ],
 "metadata": {
  "kernelspec": {
   "display_name": "Python gcp_ocr",
   "language": "python",
   "name": "gcp_ocr"
  },
  "language_info": {
   "codemirror_mode": {
    "name": "ipython",
    "version": 3
   },
   "file_extension": ".py",
   "mimetype": "text/x-python",
   "name": "python",
   "nbconvert_exporter": "python",
   "pygments_lexer": "ipython3",
   "version": "3.9.12"
  }
 },
 "nbformat": 4,
 "nbformat_minor": 5
}
