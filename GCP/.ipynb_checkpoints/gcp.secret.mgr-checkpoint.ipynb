{
 "cells": [
  {
   "cell_type": "code",
   "execution_count": 1,
   "id": "c8938e1e",
   "metadata": {},
   "outputs": [],
   "source": [
    "#Access Google secret manager"
   ]
  },
  {
   "cell_type": "code",
   "execution_count": 47,
   "id": "26d7d4f9",
   "metadata": {},
   "outputs": [],
   "source": [
    "from google.cloud import secretmanager\n",
    "import os"
   ]
  },
  {
   "cell_type": "code",
   "execution_count": 48,
   "id": "9bb4f84e",
   "metadata": {},
   "outputs": [],
   "source": [
    "project_id = 'tutorialprj01'\n",
    "secret_id  = 'my-secret2'\n",
    "GOOGLE_APPLICATION_CREDENTIALS=\"./key.secret.mgr.json\""
   ]
  },
  {
   "cell_type": "code",
   "execution_count": 49,
   "id": "7c14bffe",
   "metadata": {},
   "outputs": [],
   "source": [
    "os.environ['GOOGLE_CLOUD_PROJECT']=project_id\n",
    "os.environ['GOOGLE_APPLICATION_CREDENTIALS']=GOOGLE_APPLICATION_CREDENTIALS\n",
    "os.environ['http_proxy']=\"http://localhost:10809\""
   ]
  },
  {
   "cell_type": "code",
   "execution_count": 50,
   "id": "04ded004",
   "metadata": {},
   "outputs": [],
   "source": [
    "# Create secret manager client"
   ]
  },
  {
   "cell_type": "code",
   "execution_count": 51,
   "id": "492ece1b",
   "metadata": {},
   "outputs": [],
   "source": [
    "client = secretmanager.SecretManagerServiceClient()"
   ]
  },
  {
   "cell_type": "code",
   "execution_count": 52,
   "id": "83a77e16",
   "metadata": {},
   "outputs": [],
   "source": [
    "#Build the paretn name from the project"
   ]
  },
  {
   "cell_type": "code",
   "execution_count": 53,
   "id": "3294dab4",
   "metadata": {},
   "outputs": [],
   "source": [
    "parent = f'projects/{project_id}'\n"
   ]
  },
  {
   "cell_type": "code",
   "execution_count": 54,
   "id": "97281696",
   "metadata": {},
   "outputs": [],
   "source": [
    "#secret = client.create_secret(\n",
    "#    request={\n",
    "#        \"parent\": parent,\n",
    "#        \"secret_id\": secret_id,\n",
    "#        \"secret\": {\"replication\": {\"automatic\":{}}},\n",
    "#    }\n",
    "#)"
   ]
  },
  {
   "cell_type": "code",
   "execution_count": 55,
   "id": "2e085153",
   "metadata": {},
   "outputs": [],
   "source": [
    "#access secret version"
   ]
  },
  {
   "cell_type": "code",
   "execution_count": 56,
   "id": "8a671cfc",
   "metadata": {},
   "outputs": [],
   "source": [
    "secret_id = \"my-secret\"\n",
    "name = f\"projects/{project_id}/secrets/{secret_id}/versions/latest\""
   ]
  },
  {
   "cell_type": "code",
   "execution_count": 57,
   "id": "12f5f4f9",
   "metadata": {},
   "outputs": [],
   "source": [
    "# Access the secret version.\n",
    "response = client.access_secret_version(request={\"name\": name})"
   ]
  },
  {
   "cell_type": "code",
   "execution_count": 58,
   "id": "492cc2e6",
   "metadata": {},
   "outputs": [
    {
     "name": "stdout",
     "output_type": "stream",
     "text": [
      "name: \"projects/94920510836/secrets/my-secret/versions/1\"\n",
      "payload {\n",
      "  data: \"my-super-secret-data\"\n",
      "  data_crc32c: 3102513255\n",
      "}\n",
      "\n"
     ]
    }
   ],
   "source": [
    "print(response)"
   ]
  },
  {
   "cell_type": "code",
   "execution_count": null,
   "id": "cc09e197",
   "metadata": {},
   "outputs": [],
   "source": []
  }
 ],
 "metadata": {
  "kernelspec": {
   "display_name": "Python gcp_ocr",
   "language": "python",
   "name": "gcp_ocr"
  },
  "language_info": {
   "codemirror_mode": {
    "name": "ipython",
    "version": 3
   },
   "file_extension": ".py",
   "mimetype": "text/x-python",
   "name": "python",
   "nbconvert_exporter": "python",
   "pygments_lexer": "ipython3",
   "version": "3.9.12"
  }
 },
 "nbformat": 4,
 "nbformat_minor": 5
}
