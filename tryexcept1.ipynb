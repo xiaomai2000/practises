{
 "cells": [
  {
   "cell_type": "code",
   "execution_count": 17,
   "id": "9d7b3191",
   "metadata": {},
   "outputs": [],
   "source": [
    "import sys"
   ]
  },
  {
   "cell_type": "code",
   "execution_count": 25,
   "id": "24a56691",
   "metadata": {},
   "outputs": [
    {
     "name": "stdout",
     "output_type": "stream",
     "text": [
      "Error oserr: [Errno 2] No such file or directory: './tryexcept1.ipynb-000' -msg sown\n",
      "this is last line\n"
     ]
    }
   ],
   "source": [
    "try:\n",
    "    f = open(\"./tryexcept1.ipynb-000\")\n",
    "    #f.readlines()\n",
    "    print(f.readlines())\n",
    "    f.close()\n",
    "\n",
    "except IOError as oserr:\n",
    "    print(\"Error oserr: {0} {1}\".format(oserr, \"-msg sown\"))\n",
    "    pass\n",
    "\n",
    "print(\"this is last line\")"
   ]
  },
  {
   "cell_type": "code",
   "execution_count": 27,
   "id": "b09e934c",
   "metadata": {},
   "outputs": [
    {
     "name": "stdout",
     "output_type": "stream",
     "text": [
      "Error [Errno 2] No such file or directory: '././tryexcept1.ipynb-999'\n"
     ]
    }
   ],
   "source": [
    "try:\n",
    "    with open(\"././tryexcept1.ipynb-999\") as f:\n",
    "        print(f.readlines())\n",
    "    \n",
    "except IOError as oserr:\n",
    "    print('Error {0}'.format(oserr))\n",
    "\n"
   ]
  },
  {
   "cell_type": "code",
   "execution_count": null,
   "id": "685835bc",
   "metadata": {},
   "outputs": [],
   "source": []
  }
 ],
 "metadata": {
  "kernelspec": {
   "display_name": "Python 3 (ipykernel)",
   "language": "python",
   "name": "python3"
  },
  "language_info": {
   "codemirror_mode": {
    "name": "ipython",
    "version": 3
   },
   "file_extension": ".py",
   "mimetype": "text/x-python",
   "name": "python",
   "nbconvert_exporter": "python",
   "pygments_lexer": "ipython3",
   "version": "3.9.7"
  }
 },
 "nbformat": 4,
 "nbformat_minor": 5
}
