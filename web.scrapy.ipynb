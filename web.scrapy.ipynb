{
 "cells": [
  {
   "cell_type": "code",
   "execution_count": 1,
   "id": "c3ae4e04",
   "metadata": {},
   "outputs": [],
   "source": [
    "import scrapy\n"
   ]
  },
  {
   "cell_type": "code",
   "execution_count": 3,
   "id": "933866c1",
   "metadata": {},
   "outputs": [],
   "source": [
    "class QuotesSpider(scrapy.Spider):\n",
    "    name = 'quotes'\n",
    "    \n",
    "    def start_requests(self):\n",
    "        urls = [\n",
    "            'https://quotes.toscrape.com/page/1/',\n",
    "            'https://quotes.toscrape.com/page/2/',\n",
    "        ]\n",
    "        \n",
    "        for url in urls:\n",
    "            print('Going to reach url: ', url)\n",
    "            yield scapy.Request(url=url, callback=self.parse)\n",
    "            \n",
    "    # parse result\n",
    "    def parse(self,reponse):\n",
    "        page = response.url.split('/')[-2]\n",
    "        filename = f'quotes-{page}.html'\n",
    "        \n",
    "        with open(filename, 'wb') as f:\n",
    "            f.write(response.body)\n",
    "        self.log(f'Saved file {filename}')\n",
    "        \n"
   ]
  },
  {
   "cell_type": "code",
   "execution_count": null,
   "id": "108caf1b",
   "metadata": {},
   "outputs": [],
   "source": []
  }
 ],
 "metadata": {
  "kernelspec": {
   "display_name": "Python 3 (ipykernel)",
   "language": "python",
   "name": "python3"
  },
  "language_info": {
   "codemirror_mode": {
    "name": "ipython",
    "version": 3
   },
   "file_extension": ".py",
   "mimetype": "text/x-python",
   "name": "python",
   "nbconvert_exporter": "python",
   "pygments_lexer": "ipython3",
   "version": "3.9.7"
  }
 },
 "nbformat": 4,
 "nbformat_minor": 5
}
