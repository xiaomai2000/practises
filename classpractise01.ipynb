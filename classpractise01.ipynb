{
 "cells": [
  {
   "cell_type": "code",
   "execution_count": 4,
   "id": "bb73b0f9",
   "metadata": {},
   "outputs": [
    {
     "name": "stdout",
     "output_type": "stream",
     "text": [
      "3\n",
      "3\n",
      "   Me in this class\n"
     ]
    }
   ],
   "source": [
    "class MyWClass():\n",
    "    y = 2\n",
    "    \n",
    "    def __init__(self):\n",
    "        \n",
    "        self.y = self.y + 1\n",
    "        print(self.y)\n",
    "    \n",
    "    def showme(self):\n",
    "        print(\"   Me in this class\")\n",
    "        \n",
    "\n",
    "m = MyWClass()\n",
    "\n",
    "print(m.y)\n",
    "m.showme()"
   ]
  },
  {
   "cell_type": "code",
   "execution_count": 6,
   "id": "a7c776d0",
   "metadata": {},
   "outputs": [
    {
     "name": "stdout",
     "output_type": "stream",
     "text": [
      "What's your name?Ahealthman\n",
      "you input: Ahealthman\n"
     ]
    }
   ],
   "source": [
    "name = input(\"What's your name?\")\n",
    "print(\"you input: {0}\".format(name))\n"
   ]
  }
 ],
 "metadata": {
  "kernelspec": {
   "display_name": "Python 3 (ipykernel)",
   "language": "python",
   "name": "python3"
  },
  "language_info": {
   "codemirror_mode": {
    "name": "ipython",
    "version": 3
   },
   "file_extension": ".py",
   "mimetype": "text/x-python",
   "name": "python",
   "nbconvert_exporter": "python",
   "pygments_lexer": "ipython3",
   "version": "3.9.7"
  }
 },
 "nbformat": 4,
 "nbformat_minor": 5
}
