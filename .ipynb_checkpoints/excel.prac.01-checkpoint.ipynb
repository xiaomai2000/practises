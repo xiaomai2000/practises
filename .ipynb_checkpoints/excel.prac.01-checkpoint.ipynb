{
 "cells": [
  {
   "cell_type": "code",
   "execution_count": 9,
   "id": "e47497c1",
   "metadata": {},
   "outputs": [],
   "source": [
    "import xlwt"
   ]
  },
  {
   "cell_type": "code",
   "execution_count": 13,
   "id": "c68c9f3b",
   "metadata": {},
   "outputs": [],
   "source": [
    "f = xlwt.Workbook(encoding='gbk')\n",
    "sheet1 = f.add_sheet(u'个人信息',cell_overwrite_ok = True)\n"
   ]
  },
  {
   "cell_type": "code",
   "execution_count": 14,
   "id": "290ca462",
   "metadata": {},
   "outputs": [],
   "source": [
    "sheet1.write(0,1,'kkk')\n"
   ]
  },
  {
   "cell_type": "code",
   "execution_count": 15,
   "id": "c7f9078f",
   "metadata": {},
   "outputs": [],
   "source": [
    "f.save('./excel_write.test.xls')\n"
   ]
  },
  {
   "cell_type": "code",
   "execution_count": null,
   "id": "6567e84c",
   "metadata": {},
   "outputs": [],
   "source": []
  }
 ],
 "metadata": {
  "kernelspec": {
   "display_name": "Python 3 (ipykernel)",
   "language": "python",
   "name": "python3"
  },
  "language_info": {
   "codemirror_mode": {
    "name": "ipython",
    "version": 3
   },
   "file_extension": ".py",
   "mimetype": "text/x-python",
   "name": "python",
   "nbconvert_exporter": "python",
   "pygments_lexer": "ipython3",
   "version": "3.9.7"
  }
 },
 "nbformat": 4,
 "nbformat_minor": 5
}
