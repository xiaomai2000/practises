{
 "cells": [
  {
   "cell_type": "code",
   "execution_count": 6,
   "id": "44599b84",
   "metadata": {},
   "outputs": [],
   "source": [
    "def bubble_sort(arr, simulation=False):\n",
    "    def swap(i, j):\n",
    "        arr[i], arr[j] = arr[j], arr[i]\n",
    "\n",
    "    n = len(arr)\n",
    "    swapped = True\n",
    "    \n",
    "    iteration = 0\n",
    "    if simulation:\n",
    "        print(\"iteration\",iteration,\":\",*arr)\n",
    "    x = -1\n",
    "    while swapped:\n",
    "        swapped = False\n",
    "        x = x + 1\n",
    "        for i in range(1, n-x):\n",
    "            if arr[i - 1] > arr[i]:\n",
    "                swap(i - 1, i)\n",
    "                swapped = True\n",
    "                if simulation:\n",
    "                    iteration = iteration + 1\n",
    "                    print(\"iteration\",iteration,\":\",*arr)\n",
    "                    print(\"   i={0}, x={1}\".format(i,x))\n",
    "                    \n",
    "    return arr"
   ]
  },
  {
   "cell_type": "code",
   "execution_count": 7,
   "id": "d912eeaa",
   "metadata": {},
   "outputs": [
    {
     "name": "stdout",
     "output_type": "stream",
     "text": [
      "iteration 0 : 15 2 9 30 31 22\n",
      "iteration 1 : 2 15 9 30 31 22\n",
      "   i=1, x=0\n",
      "iteration 2 : 2 9 15 30 31 22\n",
      "   i=2, x=0\n",
      "iteration 3 : 2 9 15 30 22 31\n",
      "   i=5, x=0\n",
      "iteration 4 : 2 9 15 22 30 31\n",
      "   i=4, x=1\n"
     ]
    },
    {
     "data": {
      "text/plain": [
       "[2, 9, 15, 22, 30, 31]"
      ]
     },
     "execution_count": 7,
     "metadata": {},
     "output_type": "execute_result"
    }
   ],
   "source": [
    "arr = [15,2,9,30,31,22]\n",
    "bubble_sort(arr, True)"
   ]
  },
  {
   "cell_type": "code",
   "execution_count": 11,
   "id": "c35f9880",
   "metadata": {},
   "outputs": [
    {
     "name": "stdout",
     "output_type": "stream",
     "text": [
      "iteration 0 : 1 2 5 10 15 30 31\n"
     ]
    },
    {
     "data": {
      "text/plain": [
       "[1, 2, 5, 10, 15, 30, 31]"
      ]
     },
     "execution_count": 11,
     "metadata": {},
     "output_type": "execute_result"
    }
   ],
   "source": [
    "arr = [1,2,5,10,15,30,31]\n",
    "bubble_sort(arr, True)"
   ]
  },
  {
   "cell_type": "code",
   "execution_count": null,
   "id": "9914e7f0",
   "metadata": {},
   "outputs": [],
   "source": []
  }
 ],
 "metadata": {
  "kernelspec": {
   "display_name": "Python 3 (ipykernel)",
   "language": "python",
   "name": "python3"
  },
  "language_info": {
   "codemirror_mode": {
    "name": "ipython",
    "version": 3
   },
   "file_extension": ".py",
   "mimetype": "text/x-python",
   "name": "python",
   "nbconvert_exporter": "python",
   "pygments_lexer": "ipython3",
   "version": "3.9.7"
  }
 },
 "nbformat": 4,
 "nbformat_minor": 5
}
